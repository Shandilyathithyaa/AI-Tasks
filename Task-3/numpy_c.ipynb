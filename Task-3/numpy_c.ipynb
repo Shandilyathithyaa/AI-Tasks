{
 "cells": [
  {
   "cell_type": "code",
   "execution_count": 19,
   "metadata": {},
   "outputs": [],
   "source": [
    "import pandas as pd\n",
    "import numpy as np"
   ]
  },
  {
   "cell_type": "code",
   "execution_count": 20,
   "metadata": {},
   "outputs": [],
   "source": [
    "cups_df = pd.read_csv(\"../task-2/WorldCups.csv\")\n",
    "players_df = pd.read_csv(\"../task-2/WorldCupPlayers.csv\")\n",
    "matches_df = pd.read_csv(\"../task-2/WorldCupMatches.csv\")"
   ]
  },
  {
   "cell_type": "code",
   "execution_count": 21,
   "metadata": {},
   "outputs": [
    {
     "name": "stdout",
     "output_type": "stream",
     "text": [
      "    Year       Country      Winner      Runners-Up        Third          Fourth  GoalsScored  QualifiedTeams  MatchesPlayed Attendance\n",
      "0   1930       Uruguay     Uruguay       Argentina          USA      Yugoslavia           70              13             18    590.549\n",
      "1   1934         Italy       Italy  Czechoslovakia      Germany         Austria           70              16             17    363.000\n",
      "2   1938        France       Italy         Hungary       Brazil          Sweden           84              15             18    375.700\n",
      "3   1950        Brazil     Uruguay          Brazil       Sweden           Spain           88              13             22  1.045.246\n",
      "4   1954   Switzerland  Germany FR         Hungary      Austria         Uruguay          140              16             26    768.607\n",
      "5   1958        Sweden      Brazil          Sweden       France      Germany FR          126              16             35    819.810\n",
      "6   1962         Chile      Brazil  Czechoslovakia        Chile      Yugoslavia           89              16             32    893.172\n",
      "7   1966       England     England      Germany FR     Portugal    Soviet Union           89              16             32  1.563.135\n",
      "8   1970        Mexico      Brazil           Italy   Germany FR         Uruguay           95              16             32  1.603.975\n",
      "9   1974       Germany  Germany FR     Netherlands       Poland          Brazil           97              16             38  1.865.753\n",
      "10  1978     Argentina   Argentina     Netherlands       Brazil           Italy          102              16             38  1.545.791\n",
      "11  1982         Spain       Italy      Germany FR       Poland          France          146              24             52  2.109.723\n",
      "12  1986        Mexico   Argentina      Germany FR       France         Belgium          132              24             52  2.394.031\n",
      "13  1990         Italy  Germany FR       Argentina        Italy         England          115              24             52  2.516.215\n",
      "14  1994           USA      Brazil           Italy       Sweden        Bulgaria          141              24             52  3.587.538\n",
      "15  1998        France      France          Brazil      Croatia     Netherlands          171              32             64  2.785.100\n",
      "16  2002   Korea/Japan      Brazil         Germany       Turkey  Korea Republic          161              32             64  2.705.197\n",
      "17  2006       Germany       Italy          France      Germany        Portugal          147              32             64  3.359.439\n",
      "18  2010  South Africa       Spain     Netherlands      Germany         Uruguay          145              32             64  3.178.856\n",
      "19  2014        Brazil     Germany       Argentina  Netherlands          Brazil          171              32             64  3.386.810\n"
     ]
    }
   ],
   "source": [
    "print(cups_df.to_string())"
   ]
  },
  {
   "cell_type": "code",
   "execution_count": 36,
   "metadata": {},
   "outputs": [
    {
     "data": {
      "text/html": [
       "<div>\n",
       "<style scoped>\n",
       "    .dataframe tbody tr th:only-of-type {\n",
       "        vertical-align: middle;\n",
       "    }\n",
       "\n",
       "    .dataframe tbody tr th {\n",
       "        vertical-align: top;\n",
       "    }\n",
       "\n",
       "    .dataframe thead th {\n",
       "        text-align: right;\n",
       "    }\n",
       "</style>\n",
       "<table border=\"1\" class=\"dataframe\">\n",
       "  <thead>\n",
       "    <tr style=\"text-align: right;\">\n",
       "      <th></th>\n",
       "      <th>Year</th>\n",
       "      <th>Datetime</th>\n",
       "      <th>Stage</th>\n",
       "      <th>Stadium</th>\n",
       "      <th>City</th>\n",
       "      <th>Home Team Name</th>\n",
       "      <th>Home Team Goals</th>\n",
       "      <th>Away Team Goals</th>\n",
       "      <th>Away Team Name</th>\n",
       "      <th>Win conditions</th>\n",
       "      <th>Attendance</th>\n",
       "      <th>Half-time Home Goals</th>\n",
       "      <th>Half-time Away Goals</th>\n",
       "      <th>Referee</th>\n",
       "      <th>Assistant 1</th>\n",
       "      <th>Assistant 2</th>\n",
       "      <th>RoundID</th>\n",
       "      <th>MatchID</th>\n",
       "      <th>Home Team Initials</th>\n",
       "      <th>Away Team Initials</th>\n",
       "    </tr>\n",
       "  </thead>\n",
       "  <tbody>\n",
       "    <tr>\n",
       "      <th>0</th>\n",
       "      <td>1930.0</td>\n",
       "      <td>13 Jul 1930 - 15:00</td>\n",
       "      <td>Group 1</td>\n",
       "      <td>Pocitos</td>\n",
       "      <td>Montevideo</td>\n",
       "      <td>France</td>\n",
       "      <td>4.0</td>\n",
       "      <td>1.0</td>\n",
       "      <td>Mexico</td>\n",
       "      <td></td>\n",
       "      <td>4444.0</td>\n",
       "      <td>3.0</td>\n",
       "      <td>0.0</td>\n",
       "      <td>LOMBARDI Domingo (URU)</td>\n",
       "      <td>CRISTOPHE Henry (BEL)</td>\n",
       "      <td>REGO Gilberto (BRA)</td>\n",
       "      <td>201.0</td>\n",
       "      <td>1096.0</td>\n",
       "      <td>FRA</td>\n",
       "      <td>MEX</td>\n",
       "    </tr>\n",
       "    <tr>\n",
       "      <th>1</th>\n",
       "      <td>1930.0</td>\n",
       "      <td>13 Jul 1930 - 15:00</td>\n",
       "      <td>Group 4</td>\n",
       "      <td>Parque Central</td>\n",
       "      <td>Montevideo</td>\n",
       "      <td>USA</td>\n",
       "      <td>3.0</td>\n",
       "      <td>0.0</td>\n",
       "      <td>Belgium</td>\n",
       "      <td></td>\n",
       "      <td>18346.0</td>\n",
       "      <td>2.0</td>\n",
       "      <td>0.0</td>\n",
       "      <td>MACIAS Jose (ARG)</td>\n",
       "      <td>MATEUCCI Francisco (URU)</td>\n",
       "      <td>WARNKEN Alberto (CHI)</td>\n",
       "      <td>201.0</td>\n",
       "      <td>1090.0</td>\n",
       "      <td>USA</td>\n",
       "      <td>BEL</td>\n",
       "    </tr>\n",
       "    <tr>\n",
       "      <th>2</th>\n",
       "      <td>1930.0</td>\n",
       "      <td>14 Jul 1930 - 12:45</td>\n",
       "      <td>Group 2</td>\n",
       "      <td>Parque Central</td>\n",
       "      <td>Montevideo</td>\n",
       "      <td>Yugoslavia</td>\n",
       "      <td>2.0</td>\n",
       "      <td>1.0</td>\n",
       "      <td>Brazil</td>\n",
       "      <td></td>\n",
       "      <td>24059.0</td>\n",
       "      <td>2.0</td>\n",
       "      <td>0.0</td>\n",
       "      <td>TEJADA Anibal (URU)</td>\n",
       "      <td>VALLARINO Ricardo (URU)</td>\n",
       "      <td>BALWAY Thomas (FRA)</td>\n",
       "      <td>201.0</td>\n",
       "      <td>1093.0</td>\n",
       "      <td>YUG</td>\n",
       "      <td>BRA</td>\n",
       "    </tr>\n",
       "    <tr>\n",
       "      <th>3</th>\n",
       "      <td>1930.0</td>\n",
       "      <td>14 Jul 1930 - 14:50</td>\n",
       "      <td>Group 3</td>\n",
       "      <td>Pocitos</td>\n",
       "      <td>Montevideo</td>\n",
       "      <td>Romania</td>\n",
       "      <td>3.0</td>\n",
       "      <td>1.0</td>\n",
       "      <td>Peru</td>\n",
       "      <td></td>\n",
       "      <td>2549.0</td>\n",
       "      <td>1.0</td>\n",
       "      <td>0.0</td>\n",
       "      <td>WARNKEN Alberto (CHI)</td>\n",
       "      <td>LANGENUS Jean (BEL)</td>\n",
       "      <td>MATEUCCI Francisco (URU)</td>\n",
       "      <td>201.0</td>\n",
       "      <td>1098.0</td>\n",
       "      <td>ROU</td>\n",
       "      <td>PER</td>\n",
       "    </tr>\n",
       "    <tr>\n",
       "      <th>4</th>\n",
       "      <td>1930.0</td>\n",
       "      <td>15 Jul 1930 - 16:00</td>\n",
       "      <td>Group 1</td>\n",
       "      <td>Parque Central</td>\n",
       "      <td>Montevideo</td>\n",
       "      <td>Argentina</td>\n",
       "      <td>1.0</td>\n",
       "      <td>0.0</td>\n",
       "      <td>France</td>\n",
       "      <td></td>\n",
       "      <td>23409.0</td>\n",
       "      <td>0.0</td>\n",
       "      <td>0.0</td>\n",
       "      <td>REGO Gilberto (BRA)</td>\n",
       "      <td>SAUCEDO Ulises (BOL)</td>\n",
       "      <td>RADULESCU Constantin (ROU)</td>\n",
       "      <td>201.0</td>\n",
       "      <td>1085.0</td>\n",
       "      <td>ARG</td>\n",
       "      <td>FRA</td>\n",
       "    </tr>\n",
       "  </tbody>\n",
       "</table>\n",
       "</div>"
      ],
      "text/plain": [
       "     Year              Datetime    Stage         Stadium         City  \\\n",
       "0  1930.0  13 Jul 1930 - 15:00   Group 1         Pocitos  Montevideo    \n",
       "1  1930.0  13 Jul 1930 - 15:00   Group 4  Parque Central  Montevideo    \n",
       "2  1930.0  14 Jul 1930 - 12:45   Group 2  Parque Central  Montevideo    \n",
       "3  1930.0  14 Jul 1930 - 14:50   Group 3         Pocitos  Montevideo    \n",
       "4  1930.0  15 Jul 1930 - 16:00   Group 1  Parque Central  Montevideo    \n",
       "\n",
       "  Home Team Name  Home Team Goals  Away Team Goals Away Team Name  \\\n",
       "0         France              4.0              1.0         Mexico   \n",
       "1            USA              3.0              0.0        Belgium   \n",
       "2     Yugoslavia              2.0              1.0         Brazil   \n",
       "3        Romania              3.0              1.0           Peru   \n",
       "4      Argentina              1.0              0.0         France   \n",
       "\n",
       "  Win conditions  Attendance  Half-time Home Goals  Half-time Away Goals  \\\n",
       "0                     4444.0                   3.0                   0.0   \n",
       "1                    18346.0                   2.0                   0.0   \n",
       "2                    24059.0                   2.0                   0.0   \n",
       "3                     2549.0                   1.0                   0.0   \n",
       "4                    23409.0                   0.0                   0.0   \n",
       "\n",
       "                  Referee               Assistant 1  \\\n",
       "0  LOMBARDI Domingo (URU)     CRISTOPHE Henry (BEL)   \n",
       "1       MACIAS Jose (ARG)  MATEUCCI Francisco (URU)   \n",
       "2     TEJADA Anibal (URU)   VALLARINO Ricardo (URU)   \n",
       "3   WARNKEN Alberto (CHI)       LANGENUS Jean (BEL)   \n",
       "4     REGO Gilberto (BRA)      SAUCEDO Ulises (BOL)   \n",
       "\n",
       "                  Assistant 2  RoundID  MatchID Home Team Initials  \\\n",
       "0         REGO Gilberto (BRA)    201.0   1096.0                FRA   \n",
       "1       WARNKEN Alberto (CHI)    201.0   1090.0                USA   \n",
       "2         BALWAY Thomas (FRA)    201.0   1093.0                YUG   \n",
       "3    MATEUCCI Francisco (URU)    201.0   1098.0                ROU   \n",
       "4  RADULESCU Constantin (ROU)    201.0   1085.0                ARG   \n",
       "\n",
       "  Away Team Initials  \n",
       "0                MEX  \n",
       "1                BEL  \n",
       "2                BRA  \n",
       "3                PER  \n",
       "4                FRA  "
      ]
     },
     "execution_count": 36,
     "metadata": {},
     "output_type": "execute_result"
    }
   ],
   "source": [
    "matches_df.head()"
   ]
  },
  {
   "cell_type": "code",
   "execution_count": 37,
   "metadata": {},
   "outputs": [
    {
     "data": {
      "text/html": [
       "<div>\n",
       "<style scoped>\n",
       "    .dataframe tbody tr th:only-of-type {\n",
       "        vertical-align: middle;\n",
       "    }\n",
       "\n",
       "    .dataframe tbody tr th {\n",
       "        vertical-align: top;\n",
       "    }\n",
       "\n",
       "    .dataframe thead th {\n",
       "        text-align: right;\n",
       "    }\n",
       "</style>\n",
       "<table border=\"1\" class=\"dataframe\">\n",
       "  <thead>\n",
       "    <tr style=\"text-align: right;\">\n",
       "      <th></th>\n",
       "      <th>RoundID</th>\n",
       "      <th>MatchID</th>\n",
       "      <th>Team Initials</th>\n",
       "      <th>Coach Name</th>\n",
       "      <th>Line-up</th>\n",
       "      <th>Shirt Number</th>\n",
       "      <th>Player Name</th>\n",
       "      <th>Position</th>\n",
       "      <th>Event</th>\n",
       "    </tr>\n",
       "  </thead>\n",
       "  <tbody>\n",
       "    <tr>\n",
       "      <th>37779</th>\n",
       "      <td>255959</td>\n",
       "      <td>300186501</td>\n",
       "      <td>ARG</td>\n",
       "      <td>SABELLA Alejandro (ARG)</td>\n",
       "      <td>N</td>\n",
       "      <td>19</td>\n",
       "      <td>ALVAREZ</td>\n",
       "      <td>NaN</td>\n",
       "      <td>-</td>\n",
       "    </tr>\n",
       "    <tr>\n",
       "      <th>37780</th>\n",
       "      <td>255959</td>\n",
       "      <td>300186501</td>\n",
       "      <td>GER</td>\n",
       "      <td>LOEW Joachim (GER)</td>\n",
       "      <td>N</td>\n",
       "      <td>6</td>\n",
       "      <td>KHEDIRA</td>\n",
       "      <td>NaN</td>\n",
       "      <td>-</td>\n",
       "    </tr>\n",
       "    <tr>\n",
       "      <th>37781</th>\n",
       "      <td>255959</td>\n",
       "      <td>300186501</td>\n",
       "      <td>ARG</td>\n",
       "      <td>SABELLA Alejandro (ARG)</td>\n",
       "      <td>N</td>\n",
       "      <td>20</td>\n",
       "      <td>AGUERO</td>\n",
       "      <td>NaN</td>\n",
       "      <td>IH46' Y65'</td>\n",
       "    </tr>\n",
       "    <tr>\n",
       "      <th>37782</th>\n",
       "      <td>255959</td>\n",
       "      <td>300186501</td>\n",
       "      <td>GER</td>\n",
       "      <td>LOEW Joachim (GER)</td>\n",
       "      <td>N</td>\n",
       "      <td>21</td>\n",
       "      <td>MUSTAFI</td>\n",
       "      <td>NaN</td>\n",
       "      <td>-</td>\n",
       "    </tr>\n",
       "    <tr>\n",
       "      <th>37783</th>\n",
       "      <td>255959</td>\n",
       "      <td>300186501</td>\n",
       "      <td>ARG</td>\n",
       "      <td>SABELLA Alejandro (ARG)</td>\n",
       "      <td>N</td>\n",
       "      <td>23</td>\n",
       "      <td>BASANTA</td>\n",
       "      <td>NaN</td>\n",
       "      <td>-</td>\n",
       "    </tr>\n",
       "  </tbody>\n",
       "</table>\n",
       "</div>"
      ],
      "text/plain": [
       "       RoundID    MatchID Team Initials               Coach Name Line-up  \\\n",
       "37779   255959  300186501           ARG  SABELLA Alejandro (ARG)       N   \n",
       "37780   255959  300186501           GER       LOEW Joachim (GER)       N   \n",
       "37781   255959  300186501           ARG  SABELLA Alejandro (ARG)       N   \n",
       "37782   255959  300186501           GER       LOEW Joachim (GER)       N   \n",
       "37783   255959  300186501           ARG  SABELLA Alejandro (ARG)       N   \n",
       "\n",
       "       Shirt Number Player Name Position       Event  \n",
       "37779            19     ALVAREZ      NaN           -  \n",
       "37780             6     KHEDIRA      NaN           -  \n",
       "37781            20      AGUERO      NaN  IH46' Y65'  \n",
       "37782            21     MUSTAFI      NaN           -  \n",
       "37783            23     BASANTA      NaN           -  "
      ]
     },
     "execution_count": 37,
     "metadata": {},
     "output_type": "execute_result"
    }
   ],
   "source": [
    "players_df.tail()"
   ]
  },
  {
   "cell_type": "code",
   "execution_count": 24,
   "metadata": {},
   "outputs": [
    {
     "name": "stdout",
     "output_type": "stream",
     "text": [
      "   RoundID  MatchID Team Initials           Coach Name Line-up  Shirt Number  \\\n",
      "0      201     1096           FRA  CAUDRON Raoul (FRA)       S             0   \n",
      "1      201     1096           MEX     LUQUE Juan (MEX)       S             0   \n",
      "2      201     1096           FRA  CAUDRON Raoul (FRA)       S             0   \n",
      "3      201     1096           MEX     LUQUE Juan (MEX)       S             0   \n",
      "4      201     1096           FRA  CAUDRON Raoul (FRA)       S             0   \n",
      "\n",
      "        Player Name Position Event  \n",
      "0       Alex THEPOT       GK   NaN  \n",
      "1   Oscar BONFIGLIO       GK   NaN  \n",
      "2  Marcel LANGILLER      NaN  G40'  \n",
      "3      Juan CARRENO      NaN  G70'  \n",
      "4   Ernest LIBERATI      NaN   NaN  \n",
      "     RoundID  MatchID Team Initials                 Coach Name Line-up  \\\n",
      "35       201     1090           USA           MILLAR Bob (USA)       S   \n",
      "74       201     1093           BRA  DE CARVALHO Pindaro (BRA)       S   \n",
      "113      201     1098           PER        BRU Francisco (ESP)       S   \n",
      "415      201     1091           BRA  DE CARVALHO Pindaro (BRA)       S   \n",
      "468      201     1089           PAR   DURAND LAGUNA Jose (ARG)       S   \n",
      "\n",
      "     Shirt Number       Player Name Position      Event  \n",
      "35              0        Tom FLORIE        C       G45'  \n",
      "74              0         PREGUINHO        C       G62'  \n",
      "113             0   Placido GALINDO        C       R70'  \n",
      "415             0         PREGUINHO        C  G67' G83'  \n",
      "468             0  Luis VARGAS PENA        C       G40'  \n"
     ]
    }
   ],
   "source": [
    "new_df = players_df.dropna()\n",
    "print(players_df.head())\n",
    "print(new_df.head())"
   ]
  },
  {
   "cell_type": "code",
   "execution_count": 26,
   "metadata": {},
   "outputs": [
    {
     "name": "stdout",
     "output_type": "stream",
     "text": [
      "       Year              Datetime                     Stage  \\\n",
      "847  2014.0  05 Jul 2014 - 17:00             Quarter-finals   \n",
      "848  2014.0  08 Jul 2014 - 17:00                Semi-finals   \n",
      "849  2014.0  09 Jul 2014 - 17:00                Semi-finals   \n",
      "850  2014.0  12 Jul 2014 - 17:00   Play-off for third place   \n",
      "851  2014.0  13 Jul 2014 - 16:00                      Final   \n",
      "\n",
      "                 Stadium             City Home Team Name  Home Team Goals  \\\n",
      "847     Arena Fonte Nova        Salvador     Netherlands              0.0   \n",
      "848     Estadio Mineirao  Belo Horizonte          Brazil              1.0   \n",
      "849   Arena de Sao Paulo       Sao Paulo     Netherlands              0.0   \n",
      "850     Estadio Nacional        Brasilia          Brazil              0.0   \n",
      "851  Estadio do Maracana  Rio De Janeiro         Germany              1.0   \n",
      "\n",
      "     Away Team Goals Away Team Name                         Win conditions  \\\n",
      "847              0.0     Costa Rica  Netherlands win on penalties (4 - 3)    \n",
      "848              7.0        Germany                                          \n",
      "849              0.0      Argentina    Argentina win on penalties (2 - 4)    \n",
      "850              3.0    Netherlands                                          \n",
      "851              0.0      Argentina          Germany win after extra time    \n",
      "\n",
      "     Attendance  Half-time Home Goals  Half-time Away Goals  \\\n",
      "847     51179.0                   0.0                   0.0   \n",
      "848     58141.0                   0.0                   5.0   \n",
      "849     63267.0                   0.0                   0.0   \n",
      "850     68034.0                   0.0                   2.0   \n",
      "851     74738.0                   0.0                   0.0   \n",
      "\n",
      "                   Referee                  Assistant 1  \\\n",
      "847  Ravshan IRMATOV (UZB)  RASULOV Abduxamidullo (UZB)   \n",
      "848  RODRIGUEZ Marco (MEX)      TORRENTERA Marvin (MEX)   \n",
      "849     C�neyt �AKIR (TUR)         DURAN Bahattin (TUR)   \n",
      "850  HAIMOUDI Djamel (ALG)         ACHIK Redouane (MAR)   \n",
      "851   Nicola RIZZOLI (ITA)        Renato FAVERANI (ITA)   \n",
      "\n",
      "                  Assistant 2   RoundID      MatchID Home Team Initials  \\\n",
      "847  KOCHKAROV Bakhadyr (KGZ)  255953.0  300186488.0                NED   \n",
      "848     QUINTERO Marcos (MEX)  255955.0  300186474.0                BRA   \n",
      "849         ONGUN Tarik (TUR)  255955.0  300186490.0                NED   \n",
      "850   ETCHIALI Abdelhak (ALG)  255957.0  300186502.0                BRA   \n",
      "851      Andrea STEFANI (ITA)  255959.0  300186501.0                GER   \n",
      "\n",
      "    Away Team Initials  \n",
      "847                CRC  \n",
      "848                GER  \n",
      "849                ARG  \n",
      "850                NED  \n",
      "851                ARG  \n",
      "       Year              Datetime                     Stage  \\\n",
      "847  2014.0  05 Jul 2014 - 17:00             Quarter-finals   \n",
      "848  2014.0  08 Jul 2014 - 17:00                Semi-finals   \n",
      "849  2014.0  09 Jul 2014 - 17:00                Semi-finals   \n",
      "850  2014.0  12 Jul 2014 - 17:00   Play-off for third place   \n",
      "851  2014.0  13 Jul 2014 - 16:00                      Final   \n",
      "\n",
      "                 Stadium             City Home Team Name  Home Team Goals  \\\n",
      "847     Arena Fonte Nova        Salvador     Netherlands              0.0   \n",
      "848     Estadio Mineirao  Belo Horizonte          Brazil              1.0   \n",
      "849   Arena de Sao Paulo       Sao Paulo     Netherlands              0.0   \n",
      "850     Estadio Nacional        Brasilia          Brazil              0.0   \n",
      "851  Estadio do Maracana  Rio De Janeiro         Germany              1.0   \n",
      "\n",
      "     Away Team Goals Away Team Name                         Win conditions  \\\n",
      "847              0.0     Costa Rica  Netherlands win on penalties (4 - 3)    \n",
      "848              7.0        Germany                                          \n",
      "849              0.0      Argentina    Argentina win on penalties (2 - 4)    \n",
      "850              3.0    Netherlands                                          \n",
      "851              0.0      Argentina          Germany win after extra time    \n",
      "\n",
      "     Attendance  Half-time Home Goals  Half-time Away Goals  \\\n",
      "847     51179.0                   0.0                   0.0   \n",
      "848     58141.0                   0.0                   5.0   \n",
      "849     63267.0                   0.0                   0.0   \n",
      "850     68034.0                   0.0                   2.0   \n",
      "851     74738.0                   0.0                   0.0   \n",
      "\n",
      "                   Referee                  Assistant 1  \\\n",
      "847  Ravshan IRMATOV (UZB)  RASULOV Abduxamidullo (UZB)   \n",
      "848  RODRIGUEZ Marco (MEX)      TORRENTERA Marvin (MEX)   \n",
      "849     C�neyt �AKIR (TUR)         DURAN Bahattin (TUR)   \n",
      "850  HAIMOUDI Djamel (ALG)         ACHIK Redouane (MAR)   \n",
      "851   Nicola RIZZOLI (ITA)        Renato FAVERANI (ITA)   \n",
      "\n",
      "                  Assistant 2   RoundID      MatchID Home Team Initials  \\\n",
      "847  KOCHKAROV Bakhadyr (KGZ)  255953.0  300186488.0                NED   \n",
      "848     QUINTERO Marcos (MEX)  255955.0  300186474.0                BRA   \n",
      "849         ONGUN Tarik (TUR)  255955.0  300186490.0                NED   \n",
      "850   ETCHIALI Abdelhak (ALG)  255957.0  300186502.0                BRA   \n",
      "851      Andrea STEFANI (ITA)  255959.0  300186501.0                GER   \n",
      "\n",
      "    Away Team Initials  \n",
      "847                CRC  \n",
      "848                GER  \n",
      "849                ARG  \n",
      "850                NED  \n",
      "851                ARG  \n"
     ]
    }
   ],
   "source": [
    "print(matches_df.tail())\n",
    "matches_df.dropna(inplace=True)\n",
    "print(matches_df.tail())"
   ]
  },
  {
   "cell_type": "code",
   "execution_count": 31,
   "metadata": {},
   "outputs": [
    {
     "name": "stdout",
     "output_type": "stream",
     "text": [
      "<bound method NDFrame.head of        RoundID    MatchID Team Initials               Coach Name Line-up  \\\n",
      "0          201       1096           FRA      CAUDRON Raoul (FRA)       S   \n",
      "1          201       1096           MEX         LUQUE Juan (MEX)       S   \n",
      "2          201       1096           FRA      CAUDRON Raoul (FRA)       S   \n",
      "3          201       1096           MEX         LUQUE Juan (MEX)       S   \n",
      "4          201       1096           FRA      CAUDRON Raoul (FRA)       S   \n",
      "...        ...        ...           ...                      ...     ...   \n",
      "37779   255959  300186501           ARG  SABELLA Alejandro (ARG)       N   \n",
      "37780   255959  300186501           GER       LOEW Joachim (GER)       N   \n",
      "37781   255959  300186501           ARG  SABELLA Alejandro (ARG)       N   \n",
      "37782   255959  300186501           GER       LOEW Joachim (GER)       N   \n",
      "37783   255959  300186501           ARG  SABELLA Alejandro (ARG)       N   \n",
      "\n",
      "       Shirt Number       Player Name Position       Event  \n",
      "0                 0       Alex THEPOT       GK           -  \n",
      "1                 0   Oscar BONFIGLIO       GK           -  \n",
      "2                 0  Marcel LANGILLER      NaN        G40'  \n",
      "3                 0      Juan CARRENO      NaN        G70'  \n",
      "4                 0   Ernest LIBERATI      NaN           -  \n",
      "...             ...               ...      ...         ...  \n",
      "37779            19           ALVAREZ      NaN           -  \n",
      "37780             6           KHEDIRA      NaN           -  \n",
      "37781            20            AGUERO      NaN  IH46' Y65'  \n",
      "37782            21           MUSTAFI      NaN           -  \n",
      "37783            23           BASANTA      NaN           -  \n",
      "\n",
      "[37784 rows x 9 columns]>\n"
     ]
    }
   ],
   "source": [
    "players_df['Event'].fillna('-',inplace = True)\n",
    "print(players_df.head)"
   ]
  },
  {
   "cell_type": "code",
   "execution_count": 35,
   "metadata": {},
   "outputs": [
    {
     "name": "stdout",
     "output_type": "stream",
     "text": [
      "                    Year  GoalsScored  QualifiedTeams  MatchesPlayed\n",
      "Year            1.000000     0.829886        0.895565       0.972473\n",
      "GoalsScored     0.829886     1.000000        0.866201       0.876201\n",
      "QualifiedTeams  0.895565     0.866201        1.000000       0.949164\n",
      "MatchesPlayed   0.972473     0.876201        0.949164       1.000000\n",
      "               RoundID   MatchID  Shirt Number\n",
      "RoundID       1.000000  0.064068      0.072988\n",
      "MatchID       0.064068  1.000000      0.103669\n",
      "Shirt Number  0.072988  0.103669      1.000000\n",
      "                          Year  Home Team Goals  Away Team Goals  Attendance  \\\n",
      "Year                  1.000000        -0.382443         0.075549    0.314698   \n",
      "Home Team Goals      -0.382443         1.000000         0.012480   -0.117751   \n",
      "Away Team Goals       0.075549         0.012480         1.000000   -0.029801   \n",
      "Attendance            0.314698        -0.117751        -0.029801    1.000000   \n",
      "Half-time Home Goals -0.287370         0.730249        -0.006345   -0.126756   \n",
      "Half-time Away Goals  0.022869        -0.009363         0.694065   -0.037136   \n",
      "RoundID               0.344996        -0.109990        -0.005364    0.069394   \n",
      "MatchID               0.634769        -0.197778         0.083245    0.164686   \n",
      "\n",
      "                      Half-time Home Goals  Half-time Away Goals   RoundID  \\\n",
      "Year                             -0.287370              0.022869  0.344996   \n",
      "Home Team Goals                   0.730249             -0.009363 -0.109990   \n",
      "Away Team Goals                  -0.006345              0.694065 -0.005364   \n",
      "Attendance                       -0.126756             -0.037136  0.069394   \n",
      "Half-time Home Goals              1.000000              0.021124 -0.056029   \n",
      "Half-time Away Goals              0.021124              1.000000  0.011431   \n",
      "RoundID                          -0.056029              0.011431  1.000000   \n",
      "MatchID                          -0.163372              0.062969  0.073897   \n",
      "\n",
      "                       MatchID  \n",
      "Year                  0.634769  \n",
      "Home Team Goals      -0.197778  \n",
      "Away Team Goals       0.083245  \n",
      "Attendance            0.164686  \n",
      "Half-time Home Goals -0.163372  \n",
      "Half-time Away Goals  0.062969  \n",
      "RoundID               0.073897  \n",
      "MatchID               1.000000  \n"
     ]
    }
   ],
   "source": [
    "print(cups_df.corr())\n",
    "print(players_df.corr())\n",
    "print(matches_df.corr())"
   ]
  },
  {
   "cell_type": "code",
   "execution_count": 45,
   "metadata": {},
   "outputs": [
    {
     "data": {
      "text/plain": [
       "<AxesSubplot:xlabel='Home Team Goals', ylabel='Away Team Goals'>"
      ]
     },
     "execution_count": 45,
     "metadata": {},
     "output_type": "execute_result"
    },
    {
     "data": {
      "image/png": "[encoded data removed]",
      "text/plain": [
       "<Figure size 432x288 with 1 Axes>"
      ]
     },
     "metadata": {
      "needs_background": "light"
     },
     "output_type": "display_data"
    },
    {
     "data": {
      "image/png": "[encoded data removed]",
      "text/plain": [
       "<Figure size 432x288 with 1 Axes>"
      ]
     },
     "metadata": {
      "needs_background": "light"
     },
     "output_type": "display_data"
    },
    {
     "data": {
      "image/png": "[encoded data removed]",
      "text/plain": [
       "<Figure size 432x288 with 1 Axes>"
      ]
     },
     "metadata": {
      "needs_background": "light"
     },
     "output_type": "display_data"
    }
   ],
   "source": [
    "cups_df['GoalsScored'].plot(kind='hist')\n",
    "players_df.plot()\n",
    "matches_df.plot(kind='scatter', x = 'Home Team Goals', y='Away Team Goals')"
   ]
  },
  {
   "cell_type": "code",
   "execution_count": 48,
   "metadata": {},
   "outputs": [
    {
     "name": "stdout",
     "output_type": "stream",
     "text": [
      "['Marcel LANGILLER' 'Juan CARRENO' 'Ernest LIBERATI' 'Rafael GARZA'\n",
      " 'Andre MASCHINOT']\n"
     ]
    }
   ],
   "source": [
    "players = np.array(players_df['Player Name'])\n",
    "print(players[2:7])"
   ]
  },
  {
   "cell_type": "code",
   "execution_count": 53,
   "metadata": {},
   "outputs": [
    {
     "name": "stdout",
     "output_type": "stream",
     "text": [
      "[[ 70  70  84  88 140]\n",
      " [126  89  89  95  97]\n",
      " [102 146 132 115 141]\n",
      " [171 161 147 145 171]]\n",
      "[[[ 70  70]\n",
      "  [ 84  88]\n",
      "  [140 126]\n",
      "  [ 89  89]\n",
      "  [ 95  97]]\n",
      "\n",
      " [[102 146]\n",
      "  [132 115]\n",
      "  [141 171]\n",
      "  [161 147]\n",
      "  [145 171]]]\n"
     ]
    }
   ],
   "source": [
    "goals = np.array(cups_df['GoalsScored'])\n",
    "goals = goals.reshape(4, 5)\n",
    "print(goals)\n",
    "goals = goals.reshape(2,5,2)\n",
    "print(goals)"
   ]
  },
  {
   "cell_type": "code",
   "execution_count": 67,
   "metadata": {},
   "outputs": [
    {
     "name": "stdout",
     "output_type": "stream",
     "text": [
      "[ 70  70  84  88 140 126  89  89  95  97]\n",
      "y1 =  [70 70 84 88]\n",
      "y2 =  [140 126  89]\n",
      "y3 =  [89 95 97]\n",
      "total= [ 70  70  84  88 140 126  89  89  95  97]\n"
     ]
    }
   ],
   "source": [
    "years = np.array(cups_df['GoalsScored'].head(10))\n",
    "y1,y2,y3 = np.array_split(years,3)\n",
    "print(years)\n",
    "print(\"y1 = \",y1)\n",
    "print(\"y2 = \",y2)\n",
    "print(\"y3 = \",y3)\n",
    "total = np.concatenate((y1,y2))\n",
    "total = np.concatenate((total,y3))\n",
    "print(\"total=\",total)"
   ]
  },
  {
   "cell_type": "code",
   "execution_count": 69,
   "metadata": {},
   "outputs": [
    {
     "name": "stdout",
     "output_type": "stream",
     "text": [
      "(array([6, 7], dtype=int64),)\n"
     ]
    }
   ],
   "source": [
    "x = np.where(years == 89)\n",
    "print(x)"
   ]
  }
 ],
 "metadata": {
  "interpreter": {
   "hash": "f2575392019334285e0602a4035eec46b9260ee4c95297ea34ade6e3c8b8fcaf"
  },
  "kernelspec": {
   "display_name": "Python 3.8.10 64-bit",
   "language": "python",
   "name": "python3"
  },
  "language_info": {
   "codemirror_mode": {
    "name": "ipython",
    "version": 3
   },
   "file_extension": ".py",
   "mimetype": "text/x-python",
   "name": "python",
   "nbconvert_exporter": "python",
   "pygments_lexer": "ipython3",
   "version": "3.8.10"
  },
  "orig_nbformat": 4
 },
 "nbformat": 4,
 "nbformat_minor": 2
}
